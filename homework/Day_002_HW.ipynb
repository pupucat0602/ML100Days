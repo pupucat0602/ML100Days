{
 "cells": [
  {
   "cell_type": "code",
   "execution_count": null,
   "metadata": {},
   "outputs": [],
   "source": [
    "# 思考題_請找出一個你認為機器學習可以發光發熱的領域並闡述原因?\n",
    "\n",
    "# Ans:\n",
    "#     我認為機器學習可以應用在寵物醫療領域，例如說運用監督式學習，可以先將寵物病理圖像(X光)建立分類的數據庫\n",
    "#     以開發可以快速分類寵物疾病的系統，或是發現初期不易被察覺的疾病"
   ]
  }
 ],
 "metadata": {
  "kernelspec": {
   "display_name": "Python 3",
   "language": "python",
   "name": "python3"
  },
  "language_info": {
   "codemirror_mode": {
    "name": "ipython",
    "version": 3
   },
   "file_extension": ".py",
   "mimetype": "text/x-python",
   "name": "python",
   "nbconvert_exporter": "python",
   "pygments_lexer": "ipython3",
   "version": "3.7.6"
  }
 },
 "nbformat": 4,
 "nbformat_minor": 4
}
