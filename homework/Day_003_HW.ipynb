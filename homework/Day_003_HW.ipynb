{
 "cells": [
  {
   "cell_type": "code",
   "execution_count": null,
   "metadata": {},
   "outputs": [],
   "source": [
    "1.專案的目標？ (要解決什麼問題）\n",
    "ANS:解決病理醫生的人力不足，加上透過病理醫生人工判斷病理切片，容易因為不同症狀間的病理顯影相似造成誤判的情況發生      \n",
    "        \n",
    "2.使用的技術是？ (只需知道名稱即可，例如：使用 CNN 卷積神經網路做影像分類)\n",
    "ANS:騰訊AI LAB以顯微鏡結合AI人工智慧，讓顯微鏡能夠主動學習訓練數據資料庫&困難案例，以輔助判斷病理結果。\n",
    "    為了提升演算法的通用性及穩定性，還加入了深度學習模型的知識遷移學習技術，以及非監督式學習中的生成對抗網路技術(GAN)。\n",
    "          \n",
    "3.資料來源？\n",
    "ANS:雷鋒網-国内首款AI显微镜获NMPA批准，将应用于病理检测 / 作者:刘海涛"
   ]
  }
 ],
 "metadata": {
  "kernelspec": {
   "display_name": "Python 3",
   "language": "python",
   "name": "python3"
  },
  "language_info": {
   "codemirror_mode": {
    "name": "ipython",
    "version": 3
   },
   "file_extension": ".py",
   "mimetype": "text/x-python",
   "name": "python",
   "nbconvert_exporter": "python",
   "pygments_lexer": "ipython3",
   "version": "3.7.6"
  }
 },
 "nbformat": 4,
 "nbformat_minor": 4
}
